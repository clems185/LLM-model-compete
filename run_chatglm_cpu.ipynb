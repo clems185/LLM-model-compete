{
 "cells": [
  {
   "cell_type": "code",
   "execution_count": 12,
   "id": "0d35a2a4-ad82-4307-8b17-b5917c0dbe4d",
   "metadata": {
    "ExecutionIndicator": {
     "show": true
    },
    "tags": []
   },
   "outputs": [],
   "source": [
    "from transformers import TextStreamer, AutoTokenizer, AutoModelForCausalLM\n",
    "model_name = \"/mnt/workspace/chatglm3-6b\" # 本地路径"
   ]
  },
  {
   "cell_type": "code",
   "execution_count": 13,
   "id": "af403495-6681-4a6d-96ca-4de67faa54ee",
   "metadata": {},
   "outputs": [
    {
     "name": "stderr",
     "output_type": "stream",
     "text": [
      "Setting eos_token is not supported, use the default one.\n",
      "Setting pad_token is not supported, use the default one.\n",
      "Setting unk_token is not supported, use the default one.\n",
      "Loading checkpoint shards: 100%|██████████| 7/7 [00:58<00:00,  8.36s/it]\n"
     ]
    }
   ],
   "source": [
    "tokenizer = AutoTokenizer.from_pretrained(\n",
    " model_name,\n",
    " trust_remote_code=True\n",
    ")\n",
    "model = AutoModelForCausalLM.from_pretrained(\n",
    " model_name,\n",
    " trust_remote_code=True,\n",
    " torch_dtype=\"auto\" # 自动选择 float32/float16（根据模型配置）\n",
    ").eval()"
   ]
  },
  {
   "cell_type": "code",
   "execution_count": 14,
   "id": "8e376645-4f2c-4151-a4f0-647f85625012",
   "metadata": {},
   "outputs": [
    {
     "name": "stdout",
     "output_type": "stream",
     "text": [
      "[gMASK]sop 请说出以下两句话区别在哪里？1、冬天：能穿多少穿多少2、夏天：能穿多少穿多少 这两句话的区别在于，第一句是关于冬天的，第二句是关于夏天的。虽然两句话都表达了“能穿多少穿多少”的意思，但是第一句是用来描述冬天的，而第二句是用来描述夏天的。\n"
     ]
    }
   ],
   "source": [
    "prompt = \"请说出以下两句话区别在哪里？1、冬天：能穿多少穿多少2、夏天：能穿多少穿多少\"\n",
    "inputs = tokenizer(prompt, return_tensors=\"pt\").input_ids\n",
    "\n",
    "streamer = TextStreamer(tokenizer)\n",
    "outputs = model.generate(inputs, streamer=streamer, max_new_tokens=300)"
   ]
  },
  {
   "cell_type": "code",
   "execution_count": 15,
   "id": "debc8860-eb26-4d03-ac67-0de4c531ad63",
   "metadata": {},
   "outputs": [
    {
     "name": "stdout",
     "output_type": "stream",
     "text": [
      "[gMASK]sop 请说出以下两句话区别在哪里？单身狗产生的原因有两个，一是谁都看不上，二是谁都看不上。 \n",
      "这两个句子在表达意思上有什么区别？ \n",
      "这两个句子在表达意思上有一定的区别。 \n",
      "\n",
      "第一句话“单身狗产生的原因有两个，一是谁都看不上，二是谁都看不上。”中，第一个“谁”是指代“人”，表示单身狗的原因是单身狗自己看不上别人，同时别人也看不上单身狗。第二个“谁”是指代“人”，表示单身狗的原因是别人看不上单身狗，同时单身狗也看不上别人。 \n",
      "\n",
      "第二句话“单身狗产生的原因有两个，一是谁都看不上，二是谁都看不上。”中，两个“谁”都指代“人”，表示单身狗的原因是单身狗自己看不上别人，同时别人也看不上单身狗。但是，第一句中的“谁”是主动的，自己看不上别人，而第二句中的“谁”是被动的，别人看不上自己。\n"
     ]
    }
   ],
   "source": [
    "prompt = \"请说出以下两句话区别在哪里？单身狗产生的原因有两个，一是谁都看不上，二是谁都看不上\"\n",
    "inputs = tokenizer(prompt, return_tensors=\"pt\").input_ids\n",
    "\n",
    "streamer = TextStreamer(tokenizer)\n",
    "outputs = model.generate(inputs, streamer=streamer, max_new_tokens=300)"
   ]
  },
  {
   "cell_type": "code",
   "execution_count": 16,
   "id": "c4a3b322-cfa4-4ddf-a93b-e69a5e130c0f",
   "metadata": {},
   "outputs": [
    {
     "name": "stdout",
     "output_type": "stream",
     "text": [
      "[gMASK]sop 他知道我知道你知道他不知道吗？这句话里，到底谁不知道的事情是什么？ \n",
      "这句话是一个典型的悖论，名为“知道你知道我知道你知道”悖论。这个悖论的核心是存在一个无法说清楚的事情，即“你知道我知道你知道”。\n",
      "\n",
      "在这个问题中，表面上看起来有两个人在进行对话，但实际上，由于“你知道我知道你知道”这个陈述的存在，我们无法确定到底是谁不知道这件事情。这导致了一个无法解决的问题，从而形成了一个悖论。\n",
      "\n",
      "这个悖论揭示了一个重要的事实，即在某些情况下，我们无法用语言来准确表达我们的知识状态。有时候，我们可能知道一些事情，但我们无法确定别人是否知道这些事情。同样，别人也可能知道一些我们不知道的事情。因此，在交流过程中，我们需要注意避免产生类似的悖论，以便更准确地表达我们的想法和知识。\n"
     ]
    }
   ],
   "source": [
    "prompt = \"他知道我知道你知道他不知道吗？这句话里，到底谁不知道\"\n",
    "inputs = tokenizer(prompt, return_tensors=\"pt\").input_ids\n",
    "\n",
    "streamer = TextStreamer(tokenizer)\n",
    "outputs = model.generate(inputs, streamer=streamer, max_new_tokens=300)"
   ]
  },
  {
   "cell_type": "code",
   "execution_count": 17,
   "id": "7a8bfb0e-46a8-47ab-8133-3cebcc14d6f7",
   "metadata": {},
   "outputs": [
    {
     "name": "stdout",
     "output_type": "stream",
     "text": [
      "[gMASK]sop 明明明明明白白白喜欢他，可她就是不说。句话里，明明和白白谁喜欢谁？ \n",
      "明明喜欢白白，明明明白白白喜欢他，可她就是不说。\n"
     ]
    }
   ],
   "source": [
    "prompt = \"明明明明明白白白喜欢他，可她就是不说。句话里，明明和白白谁喜欢谁？\"\n",
    "inputs = tokenizer(prompt, return_tensors=\"pt\").input_ids\n",
    "\n",
    "streamer = TextStreamer(tokenizer)\n",
    "outputs = model.generate(inputs, streamer=streamer, max_new_tokens=300)"
   ]
  },
  {
   "cell_type": "code",
   "execution_count": 18,
   "id": "f43a5bb5-aeee-4adb-b1e9-c3d69ae33e58",
   "metadata": {},
   "outputs": [
    {
     "name": "stdout",
     "output_type": "stream",
     "text": [
      "[gMASK]sop 领导：你这是什么意思？小明：没什么意思。意思意思。领导：你这就不够意思了。小明：小意思，小意思。领导：你这人真有意思。小明：其实也没有别的意思。领导：那我就不好意思了。小明：是我不好意思。请问：以上“意思”分别是什么意思。 \n",
      "1. 领导：你这是什么意思？ - 意思：指某种行为、言语或表达所传达的含义或目的。领导这句话的意思可能是询问小明刚刚的行为或言语的含义或目的。\n",
      "\n",
      "2. 意思意思 - 意思：指某种行为、言语或表达所传达的含义或目的。在这里的意思可能是指小明刚刚的行为或言语有某种含义或目的。\n",
      "\n",
      "3. 小意思，小意思。 - 意思：指一些微不足道的、不重要的东西。在这里的意思可能是指小明对于领导的问题或关注并不重要。\n",
      "\n",
      "4. 其实也没有别的意思 - 意思：指某种行为、言语或表达所传达的含义或目的。在这里的意思可能是指小明刚刚的行为或言语并没有其他特定的含义或目的。\n",
      "\n",
      "5. 是我不好意思 - 意思：指某种行为、言语或表达所传达的含义或目的。在这里的意思可能是指小明对于领导的问题或关注感到不好意思。\n"
     ]
    }
   ],
   "source": [
    "prompt = \"领导：你这是什么意思？小明：没什么意思。意思意思。领导：你这就不够意思了。小明：小意思，小意思。领导：你这人真有意思。小明：其实也没有别的意思。领导：那我就不好意思了。小明：是我不好意思。请问：以上“意思”分别是什么意思。\"\n",
    "inputs = tokenizer(prompt, return_tensors=\"pt\").input_ids\n",
    "\n",
    "streamer = TextStreamer(tokenizer)\n",
    "outputs = model.generate(inputs, streamer=streamer, max_new_tokens=300)"
   ]
  }
 ],
 "metadata": {
  "kernelspec": {
   "display_name": "Python (big_model)",
   "language": "python",
   "name": "your_env_name"
  },
  "language_info": {
   "codemirror_mode": {
    "name": "ipython",
    "version": 3
   },
   "file_extension": ".py",
   "mimetype": "text/x-python",
   "name": "python",
   "nbconvert_exporter": "python",
   "pygments_lexer": "ipython3",
   "version": "3.10.18"
  }
 },
 "nbformat": 4,
 "nbformat_minor": 5
}
